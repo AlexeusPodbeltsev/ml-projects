{
 "metadata": {
  "kernelspec": {
   "display_name": "Python 3",
   "language": "python",
   "name": "python3"
  },
  "language_info": {
   "name": "python",
   "version": "3.10.14",
   "mimetype": "text/x-python",
   "codemirror_mode": {
    "name": "ipython",
    "version": 3
   },
   "pygments_lexer": "ipython3",
   "nbconvert_exporter": "python",
   "file_extension": ".py"
  },
  "kaggle": {
   "accelerator": "none",
   "dataSources": [],
   "dockerImageVersionId": 30786,
   "isInternetEnabled": false,
   "language": "python",
   "sourceType": "notebook",
   "isGpuEnabled": false
  }
 },
 "nbformat_minor": 5,
 "nbformat": 4,
 "cells": [
  {
   "cell_type": "markdown",
   "source": "# Iris Classification Task",
   "metadata": {},
   "id": "59a9cdf7c09b7a6b"
  },
  {
   "cell_type": "code",
   "source": "import pandas as pd",
   "metadata": {
    "execution": {
     "iopub.status.busy": "2024-10-29T20:26:18.227113Z",
     "iopub.execute_input": "2024-10-29T20:26:18.227569Z",
     "iopub.status.idle": "2024-10-29T20:26:19.425474Z",
     "shell.execute_reply.started": "2024-10-29T20:26:18.227512Z",
     "shell.execute_reply": "2024-10-29T20:26:19.424131Z"
    },
    "trusted": true,
    "ExecuteTime": {
     "end_time": "2024-10-29T20:44:10.222068Z",
     "start_time": "2024-10-29T20:44:02.334169Z"
    }
   },
   "id": "da5fdea928bdd826",
   "outputs": [],
   "execution_count": 1
  },
  {
   "cell_type": "markdown",
   "source": "## Load data",
   "metadata": {},
   "id": "7e1b9934ae350f30"
  },
  {
   "cell_type": "code",
   "source": "from sklearn.datasets import load_iris\niris = load_iris()\nX, y = iris.data, iris.target\niris_df = pd.DataFrame(X, columns=iris.feature_names)",
   "metadata": {
    "execution": {
     "iopub.status.busy": "2024-10-29T20:28:18.629742Z",
     "iopub.execute_input": "2024-10-29T20:28:18.630841Z",
     "iopub.status.idle": "2024-10-29T20:28:18.640282Z",
     "shell.execute_reply.started": "2024-10-29T20:28:18.630779Z",
     "shell.execute_reply": "2024-10-29T20:28:18.639010Z"
    },
    "trusted": true,
    "ExecuteTime": {
     "end_time": "2024-10-29T20:44:26.450773Z",
     "start_time": "2024-10-29T20:44:10.223668Z"
    }
   },
   "id": "b6f5cc7d7665d41e",
   "outputs": [],
   "execution_count": 2
  },
  {
   "cell_type": "markdown",
   "source": "### Explore the data",
   "metadata": {},
   "id": "4237d63833925398"
  },
  {
   "cell_type": "code",
   "source": "iris_df.head()",
   "metadata": {
    "execution": {
     "iopub.status.busy": "2024-10-29T20:28:21.743799Z",
     "iopub.execute_input": "2024-10-29T20:28:21.744205Z",
     "iopub.status.idle": "2024-10-29T20:28:21.757936Z",
     "shell.execute_reply.started": "2024-10-29T20:28:21.744169Z",
     "shell.execute_reply": "2024-10-29T20:28:21.756830Z"
    },
    "trusted": true,
    "ExecuteTime": {
     "end_time": "2024-10-29T20:44:26.472673Z",
     "start_time": "2024-10-29T20:44:26.452498Z"
    }
   },
   "id": "134277739791edf2",
   "outputs": [
    {
     "data": {
      "text/plain": [
       "   sepal length (cm)  sepal width (cm)  petal length (cm)  petal width (cm)\n",
       "0                5.1               3.5                1.4               0.2\n",
       "1                4.9               3.0                1.4               0.2\n",
       "2                4.7               3.2                1.3               0.2\n",
       "3                4.6               3.1                1.5               0.2\n",
       "4                5.0               3.6                1.4               0.2"
      ],
      "text/html": [
       "<div>\n",
       "<style scoped>\n",
       "    .dataframe tbody tr th:only-of-type {\n",
       "        vertical-align: middle;\n",
       "    }\n",
       "\n",
       "    .dataframe tbody tr th {\n",
       "        vertical-align: top;\n",
       "    }\n",
       "\n",
       "    .dataframe thead th {\n",
       "        text-align: right;\n",
       "    }\n",
       "</style>\n",
       "<table border=\"1\" class=\"dataframe\">\n",
       "  <thead>\n",
       "    <tr style=\"text-align: right;\">\n",
       "      <th></th>\n",
       "      <th>sepal length (cm)</th>\n",
       "      <th>sepal width (cm)</th>\n",
       "      <th>petal length (cm)</th>\n",
       "      <th>petal width (cm)</th>\n",
       "    </tr>\n",
       "  </thead>\n",
       "  <tbody>\n",
       "    <tr>\n",
       "      <th>0</th>\n",
       "      <td>5.1</td>\n",
       "      <td>3.5</td>\n",
       "      <td>1.4</td>\n",
       "      <td>0.2</td>\n",
       "    </tr>\n",
       "    <tr>\n",
       "      <th>1</th>\n",
       "      <td>4.9</td>\n",
       "      <td>3.0</td>\n",
       "      <td>1.4</td>\n",
       "      <td>0.2</td>\n",
       "    </tr>\n",
       "    <tr>\n",
       "      <th>2</th>\n",
       "      <td>4.7</td>\n",
       "      <td>3.2</td>\n",
       "      <td>1.3</td>\n",
       "      <td>0.2</td>\n",
       "    </tr>\n",
       "    <tr>\n",
       "      <th>3</th>\n",
       "      <td>4.6</td>\n",
       "      <td>3.1</td>\n",
       "      <td>1.5</td>\n",
       "      <td>0.2</td>\n",
       "    </tr>\n",
       "    <tr>\n",
       "      <th>4</th>\n",
       "      <td>5.0</td>\n",
       "      <td>3.6</td>\n",
       "      <td>1.4</td>\n",
       "      <td>0.2</td>\n",
       "    </tr>\n",
       "  </tbody>\n",
       "</table>\n",
       "</div>"
      ]
     },
     "execution_count": 3,
     "metadata": {},
     "output_type": "execute_result"
    }
   ],
   "execution_count": 3
  },
  {
   "cell_type": "code",
   "source": "iris_df.describe()",
   "metadata": {
    "execution": {
     "iopub.status.busy": "2024-10-29T20:28:23.474192Z",
     "iopub.execute_input": "2024-10-29T20:28:23.474660Z",
     "iopub.status.idle": "2024-10-29T20:28:23.500062Z",
     "shell.execute_reply.started": "2024-10-29T20:28:23.474613Z",
     "shell.execute_reply": "2024-10-29T20:28:23.498828Z"
    },
    "trusted": true,
    "ExecuteTime": {
     "end_time": "2024-10-29T20:44:26.485068Z",
     "start_time": "2024-10-29T20:44:26.474157Z"
    }
   },
   "id": "ed8f6194a51e21ef",
   "outputs": [
    {
     "data": {
      "text/plain": [
       "       sepal length (cm)  sepal width (cm)  petal length (cm)  \\\n",
       "count         150.000000        150.000000         150.000000   \n",
       "mean            5.843333          3.057333           3.758000   \n",
       "std             0.828066          0.435866           1.765298   \n",
       "min             4.300000          2.000000           1.000000   \n",
       "25%             5.100000          2.800000           1.600000   \n",
       "50%             5.800000          3.000000           4.350000   \n",
       "75%             6.400000          3.300000           5.100000   \n",
       "max             7.900000          4.400000           6.900000   \n",
       "\n",
       "       petal width (cm)  \n",
       "count        150.000000  \n",
       "mean           1.199333  \n",
       "std            0.762238  \n",
       "min            0.100000  \n",
       "25%            0.300000  \n",
       "50%            1.300000  \n",
       "75%            1.800000  \n",
       "max            2.500000  "
      ],
      "text/html": [
       "<div>\n",
       "<style scoped>\n",
       "    .dataframe tbody tr th:only-of-type {\n",
       "        vertical-align: middle;\n",
       "    }\n",
       "\n",
       "    .dataframe tbody tr th {\n",
       "        vertical-align: top;\n",
       "    }\n",
       "\n",
       "    .dataframe thead th {\n",
       "        text-align: right;\n",
       "    }\n",
       "</style>\n",
       "<table border=\"1\" class=\"dataframe\">\n",
       "  <thead>\n",
       "    <tr style=\"text-align: right;\">\n",
       "      <th></th>\n",
       "      <th>sepal length (cm)</th>\n",
       "      <th>sepal width (cm)</th>\n",
       "      <th>petal length (cm)</th>\n",
       "      <th>petal width (cm)</th>\n",
       "    </tr>\n",
       "  </thead>\n",
       "  <tbody>\n",
       "    <tr>\n",
       "      <th>count</th>\n",
       "      <td>150.000000</td>\n",
       "      <td>150.000000</td>\n",
       "      <td>150.000000</td>\n",
       "      <td>150.000000</td>\n",
       "    </tr>\n",
       "    <tr>\n",
       "      <th>mean</th>\n",
       "      <td>5.843333</td>\n",
       "      <td>3.057333</td>\n",
       "      <td>3.758000</td>\n",
       "      <td>1.199333</td>\n",
       "    </tr>\n",
       "    <tr>\n",
       "      <th>std</th>\n",
       "      <td>0.828066</td>\n",
       "      <td>0.435866</td>\n",
       "      <td>1.765298</td>\n",
       "      <td>0.762238</td>\n",
       "    </tr>\n",
       "    <tr>\n",
       "      <th>min</th>\n",
       "      <td>4.300000</td>\n",
       "      <td>2.000000</td>\n",
       "      <td>1.000000</td>\n",
       "      <td>0.100000</td>\n",
       "    </tr>\n",
       "    <tr>\n",
       "      <th>25%</th>\n",
       "      <td>5.100000</td>\n",
       "      <td>2.800000</td>\n",
       "      <td>1.600000</td>\n",
       "      <td>0.300000</td>\n",
       "    </tr>\n",
       "    <tr>\n",
       "      <th>50%</th>\n",
       "      <td>5.800000</td>\n",
       "      <td>3.000000</td>\n",
       "      <td>4.350000</td>\n",
       "      <td>1.300000</td>\n",
       "    </tr>\n",
       "    <tr>\n",
       "      <th>75%</th>\n",
       "      <td>6.400000</td>\n",
       "      <td>3.300000</td>\n",
       "      <td>5.100000</td>\n",
       "      <td>1.800000</td>\n",
       "    </tr>\n",
       "    <tr>\n",
       "      <th>max</th>\n",
       "      <td>7.900000</td>\n",
       "      <td>4.400000</td>\n",
       "      <td>6.900000</td>\n",
       "      <td>2.500000</td>\n",
       "    </tr>\n",
       "  </tbody>\n",
       "</table>\n",
       "</div>"
      ]
     },
     "execution_count": 4,
     "metadata": {},
     "output_type": "execute_result"
    }
   ],
   "execution_count": 4
  },
  {
   "cell_type": "code",
   "source": "iris_df.info()",
   "metadata": {
    "execution": {
     "iopub.status.busy": "2024-10-29T20:28:26.461822Z",
     "iopub.execute_input": "2024-10-29T20:28:26.462730Z",
     "iopub.status.idle": "2024-10-29T20:28:26.473650Z",
     "shell.execute_reply.started": "2024-10-29T20:28:26.462681Z",
     "shell.execute_reply": "2024-10-29T20:28:26.472566Z"
    },
    "trusted": true,
    "ExecuteTime": {
     "end_time": "2024-10-29T20:44:26.493717Z",
     "start_time": "2024-10-29T20:44:26.488124Z"
    }
   },
   "id": "c403053f3d09e6ee",
   "outputs": [
    {
     "name": "stdout",
     "output_type": "stream",
     "text": [
      "<class 'pandas.core.frame.DataFrame'>\n",
      "RangeIndex: 150 entries, 0 to 149\n",
      "Data columns (total 4 columns):\n",
      " #   Column             Non-Null Count  Dtype  \n",
      "---  ------             --------------  -----  \n",
      " 0   sepal length (cm)  150 non-null    float64\n",
      " 1   sepal width (cm)   150 non-null    float64\n",
      " 2   petal length (cm)  150 non-null    float64\n",
      " 3   petal width (cm)   150 non-null    float64\n",
      "dtypes: float64(4)\n",
      "memory usage: 4.8 KB\n"
     ]
    }
   ],
   "execution_count": 5
  },
  {
   "cell_type": "code",
   "source": "iris_df.hist(bins=50, figsize=(20, 20))",
   "metadata": {
    "execution": {
     "iopub.status.busy": "2024-10-29T20:29:01.295758Z",
     "iopub.execute_input": "2024-10-29T20:29:01.296188Z",
     "iopub.status.idle": "2024-10-29T20:29:02.671943Z",
     "shell.execute_reply.started": "2024-10-29T20:29:01.296151Z",
     "shell.execute_reply": "2024-10-29T20:29:02.670608Z"
    },
    "trusted": true,
    "ExecuteTime": {
     "end_time": "2024-10-29T20:44:27.086472Z",
     "start_time": "2024-10-29T20:44:26.494646Z"
    }
   },
   "id": "3711cd6e5d42dc0c",
   "outputs": [
    {
     "data": {
      "text/plain": [
       "array([[<Axes: title={'center': 'sepal length (cm)'}>,\n",
       "        <Axes: title={'center': 'sepal width (cm)'}>],\n",
       "       [<Axes: title={'center': 'petal length (cm)'}>,\n",
       "        <Axes: title={'center': 'petal width (cm)'}>]], dtype=object)"
      ]
     },
     "execution_count": 6,
     "metadata": {},
     "output_type": "execute_result"
    },
    {
     "data": {
      "text/plain": [
       "<Figure size 2000x2000 with 4 Axes>"
      ],
      "image/png": "[encoded data removed]"
     },
     "metadata": {},
     "output_type": "display_data"
    }
   ],
   "execution_count": 6
  },
  {
   "cell_type": "markdown",
   "source": "### Split train and test sets",
   "metadata": {},
   "id": "6d67aa45a404215d"
  },
  {
   "cell_type": "code",
   "source": "from sklearn.model_selection import train_test_split\nX_train, X_test, y_train, y_test = train_test_split(X, y, test_size=0.2, random_state=42)",
   "metadata": {
    "execution": {
     "iopub.status.busy": "2024-10-29T20:28:30.963326Z",
     "iopub.execute_input": "2024-10-29T20:28:30.963821Z",
     "iopub.status.idle": "2024-10-29T20:28:30.970478Z",
     "shell.execute_reply.started": "2024-10-29T20:28:30.963774Z",
     "shell.execute_reply": "2024-10-29T20:28:30.969199Z"
    },
    "trusted": true,
    "ExecuteTime": {
     "end_time": "2024-10-29T20:44:29.099031Z",
     "start_time": "2024-10-29T20:44:27.087847Z"
    }
   },
   "id": "468105d891e6e94d",
   "outputs": [],
   "execution_count": 7
  },
  {
   "cell_type": "markdown",
   "source": "### Train the model",
   "metadata": {},
   "id": "5c43623f4016a274"
  },
  {
   "cell_type": "code",
   "source": "from sklearn.neighbors import KNeighborsClassifier\nfrom sklearn.model_selection import cross_val_predict\n\ny_pred = cross_val_predict(KNeighborsClassifier(n_neighbors=3), X_train, y_train, cv=3)",
   "metadata": {
    "execution": {
     "iopub.status.busy": "2024-10-29T20:30:23.054601Z",
     "iopub.execute_input": "2024-10-29T20:30:23.055034Z",
     "iopub.status.idle": "2024-10-29T20:30:23.080858Z",
     "shell.execute_reply.started": "2024-10-29T20:30:23.054995Z",
     "shell.execute_reply": "2024-10-29T20:30:23.079552Z"
    },
    "trusted": true,
    "ExecuteTime": {
     "end_time": "2024-10-29T20:44:31.040295Z",
     "start_time": "2024-10-29T20:44:29.100063Z"
    }
   },
   "id": "9c2b94ad45a9776",
   "outputs": [],
   "execution_count": 8
  },
  {
   "cell_type": "code",
   "source": "from sklearn.metrics import ConfusionMatrixDisplay\ncm = ConfusionMatrixDisplay.from_predictions(y_train, y_pred, normalize='true', values_format=\".0%\")",
   "metadata": {
    "execution": {
     "iopub.status.busy": "2024-10-29T20:30:24.053947Z",
     "iopub.execute_input": "2024-10-29T20:30:24.054402Z",
     "iopub.status.idle": "2024-10-29T20:30:24.358404Z",
     "shell.execute_reply.started": "2024-10-29T20:30:24.054360Z",
     "shell.execute_reply": "2024-10-29T20:30:24.357126Z"
    },
    "trusted": true,
    "ExecuteTime": {
     "end_time": "2024-10-29T20:44:31.110909Z",
     "start_time": "2024-10-29T20:44:31.041151Z"
    }
   },
   "id": "73a97c7f1800950e",
   "outputs": [
    {
     "data": {
      "text/plain": [
       "<Figure size 640x480 with 2 Axes>"
      ],
      "image/png": "[encoded data removed]"
     },
     "metadata": {},
     "output_type": "display_data"
    }
   ],
   "execution_count": 9
  },
  {
   "cell_type": "markdown",
   "source": "#### ",
   "metadata": {},
   "id": "9b908583d4aba6ab"
  },
  {
   "cell_type": "markdown",
   "source": "#### Use the GridSearch to fine-tune the model",
   "metadata": {},
   "id": "b0862544020bbc7a"
  },
  {
   "cell_type": "code",
   "source": "from sklearn.model_selection import GridSearchCV\n\nparams = {'n_neighbors': [1, 2, 3, 4, 5],\n          'weights': ['uniform', 'distance']}\n\ngs = GridSearchCV(KNeighborsClassifier(), params, cv=3, scoring='f1_macro')\n\ngs.fit(X_train, y_train)\ngs.best_params_",
   "metadata": {
    "execution": {
     "iopub.status.busy": "2024-10-29T20:32:30.013782Z",
     "iopub.execute_input": "2024-10-29T20:32:30.014254Z",
     "iopub.status.idle": "2024-10-29T20:32:30.170772Z",
     "shell.execute_reply.started": "2024-10-29T20:32:30.014213Z",
     "shell.execute_reply": "2024-10-29T20:32:30.169654Z"
    },
    "trusted": true,
    "ExecuteTime": {
     "end_time": "2024-10-29T20:44:31.159272Z",
     "start_time": "2024-10-29T20:44:31.111590Z"
    }
   },
   "id": "399033495010bfce",
   "outputs": [
    {
     "data": {
      "text/plain": [
       "{'n_neighbors': 3, 'weights': 'distance'}"
      ]
     },
     "execution_count": 10,
     "metadata": {},
     "output_type": "execute_result"
    }
   ],
   "execution_count": 10
  },
  {
   "cell_type": "code",
   "source": "gs.best_score_",
   "metadata": {
    "execution": {
     "iopub.status.busy": "2024-10-29T20:32:31.459389Z",
     "iopub.execute_input": "2024-10-29T20:32:31.460494Z",
     "iopub.status.idle": "2024-10-29T20:32:31.467272Z",
     "shell.execute_reply.started": "2024-10-29T20:32:31.460445Z",
     "shell.execute_reply": "2024-10-29T20:32:31.465964Z"
    },
    "trusted": true,
    "ExecuteTime": {
     "end_time": "2024-10-29T20:44:31.162564Z",
     "start_time": "2024-10-29T20:44:31.160112Z"
    }
   },
   "id": "5ed4991e44b7131f",
   "outputs": [
    {
     "data": {
      "text/plain": [
       "np.float64(0.9583368809422449)"
      ]
     },
     "execution_count": 11,
     "metadata": {},
     "output_type": "execute_result"
    }
   ],
   "execution_count": 11
  },
  {
   "cell_type": "markdown",
   "source": "### Evaluate the model",
   "metadata": {},
   "id": "cd7dda7a34514e"
  },
  {
   "cell_type": "code",
   "source": "from sklearn.metrics import precision_score, recall_score, f1_score\nfinal_model = gs.best_estimator_\ny_pred = final_model.predict(X_test)\nf1 = f1_score(y_test, y_pred, average='macro')\nprecision = precision_score(y_test, y_pred, average='macro')\nrecall = recall_score(y_test, y_pred, average='macro')\n\n\ncm = ConfusionMatrixDisplay.from_predictions(y_test, y_pred)",
   "metadata": {
    "execution": {
     "iopub.status.busy": "2024-10-29T20:32:45.341604Z",
     "iopub.execute_input": "2024-10-29T20:32:45.342063Z",
     "iopub.status.idle": "2024-10-29T20:32:45.643292Z",
     "shell.execute_reply.started": "2024-10-29T20:32:45.342021Z",
     "shell.execute_reply": "2024-10-29T20:32:45.642199Z"
    },
    "trusted": true,
    "ExecuteTime": {
     "end_time": "2024-10-29T20:44:31.225874Z",
     "start_time": "2024-10-29T20:44:31.163211Z"
    }
   },
   "id": "3579f8949628afaa",
   "outputs": [
    {
     "data": {
      "text/plain": [
       "<Figure size 640x480 with 2 Axes>"
      ],
      "image/png": "[encoded data removed]"
     },
     "metadata": {},
     "output_type": "display_data"
    }
   ],
   "execution_count": 12
  },
  {
   "cell_type": "code",
   "source": "f1, precision, recall",
   "metadata": {
    "execution": {
     "iopub.status.busy": "2024-10-29T20:32:47.709682Z",
     "iopub.execute_input": "2024-10-29T20:32:47.710095Z",
     "iopub.status.idle": "2024-10-29T20:32:47.717816Z",
     "shell.execute_reply.started": "2024-10-29T20:32:47.710058Z",
     "shell.execute_reply": "2024-10-29T20:32:47.716672Z"
    },
    "trusted": true,
    "ExecuteTime": {
     "end_time": "2024-10-29T20:44:31.228920Z",
     "start_time": "2024-10-29T20:44:31.226584Z"
    }
   },
   "id": "bc8740828afa54af",
   "outputs": [
    {
     "data": {
      "text/plain": [
       "(np.float64(1.0), np.float64(1.0), np.float64(1.0))"
      ]
     },
     "execution_count": 13,
     "metadata": {},
     "output_type": "execute_result"
    }
   ],
   "execution_count": 13
  }
 ]
}
